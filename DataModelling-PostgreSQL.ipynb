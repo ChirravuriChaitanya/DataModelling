{
 "cells": [
  {
   "cell_type": "code",
   "execution_count": 50,
   "id": "11c87e96",
   "metadata": {},
   "outputs": [],
   "source": [
    "#!pip install psycopg2\n"
   ]
  },
  {
   "cell_type": "code",
   "execution_count": 61,
   "id": "932dd8c0",
   "metadata": {},
   "outputs": [],
   "source": [
    "import psycopg2"
   ]
  },
  {
   "cell_type": "code",
   "execution_count": 21,
   "id": "dd4886c2",
   "metadata": {},
   "outputs": [],
   "source": [
    "try:\n",
    "    conn=psycopg2.connect(\"host=localhost dbname=postgres user=postgres password=root\")\n",
    "except Psycopg2.Error as e:\n",
    "    print('Error', e)\n",
    "    \n",
    "    "
   ]
  },
  {
   "cell_type": "code",
   "execution_count": 22,
   "id": "91cbe09e",
   "metadata": {},
   "outputs": [],
   "source": [
    "try:\n",
    "    cur=conn.cursor()\n",
    "   # cur.execute('show database')\n",
    "except psycopg2.Error as e:\n",
    "    print(e)"
   ]
  },
  {
   "cell_type": "code",
   "execution_count": 23,
   "id": "d4e54de6",
   "metadata": {},
   "outputs": [],
   "source": [
    "conn.set_session(autocommit=True)"
   ]
  },
  {
   "cell_type": "code",
   "execution_count": 24,
   "id": "afefb5b9",
   "metadata": {},
   "outputs": [],
   "source": [
    "try:\n",
    "    cur.execute('create database test')\n",
    "except psycopg2.Error as e:\n",
    "    print(e)"
   ]
  },
  {
   "cell_type": "code",
   "execution_count": 30,
   "id": "a6aa36c9",
   "metadata": {},
   "outputs": [],
   "source": [
    "conn.close()"
   ]
  },
  {
   "cell_type": "code",
   "execution_count": 62,
   "id": "2eef250e",
   "metadata": {},
   "outputs": [],
   "source": [
    "try:\n",
    "    conn=psycopg2.connect(\"host=localhost dbname=test user=postgres password=root\")\n",
    "except Psycopg2.Error as e:\n",
    "    print('Error', e)\n",
    "    "
   ]
  },
  {
   "cell_type": "code",
   "execution_count": 63,
   "id": "da4d4f7c",
   "metadata": {},
   "outputs": [],
   "source": [
    "try:\n",
    "    cur=conn.cursor()\n",
    "   # cur.execute('show database')\n",
    "except psycopg2.Error as e:\n",
    "    print(e)\n",
    "conn.set_session(autocommit=True)"
   ]
  },
  {
   "cell_type": "code",
   "execution_count": 64,
   "id": "17cfd862",
   "metadata": {},
   "outputs": [
    {
     "name": "stdout",
     "output_type": "stream",
     "text": [
      "relation \"testtable\" already exists\n",
      "\n"
     ]
    }
   ],
   "source": [
    "try:\n",
    "    cur.execute('create table testtable(testid int, testname varchar)')\n",
    "except psycopg2.Error as e:\n",
    "    print(e)"
   ]
  },
  {
   "cell_type": "code",
   "execution_count": 45,
   "id": "a2bab154",
   "metadata": {},
   "outputs": [],
   "source": [
    "try:\n",
    "    cur.execute(\"insert into testtable(testid,testname) values(2,'b')\")\n",
    "except psycopg2.Error as e:\n",
    "    print(e)"
   ]
  },
  {
   "cell_type": "code",
   "execution_count": 65,
   "id": "1a44ecaa",
   "metadata": {},
   "outputs": [],
   "source": [
    "try:\n",
    "    cur.execute(\"select * from testtable;\")\n",
    "except psycopg2.Error as e:\n",
    "    print(e)"
   ]
  },
  {
   "cell_type": "code",
   "execution_count": 66,
   "id": "88f09632",
   "metadata": {},
   "outputs": [
    {
     "name": "stdout",
     "output_type": "stream",
     "text": [
      "(1, 'a')\n",
      "(2, 'b')\n"
     ]
    }
   ],
   "source": [
    "row=cur.fetchone()\n",
    "while row:\n",
    "    print(row)\n",
    "    row=cur.fetchone()"
   ]
  },
  {
   "cell_type": "code",
   "execution_count": 70,
   "id": "f2088168",
   "metadata": {},
   "outputs": [],
   "source": [
    "try:\n",
    "    cur.execute(\"CREATE TABLE Patient (PatientId SERIAL PRIMARY KEY, PatientName VARCHAR(255) NOT NULL,JoinDate DATE,LeaveDate DATE, PatientUnit VARCHAR(50));\")\n",
    "except psycopg2.Error as e:\n",
    "    print(e)"
   ]
  },
  {
   "cell_type": "code",
   "execution_count": 71,
   "id": "6d8f15d6",
   "metadata": {},
   "outputs": [],
   "source": [
    "try:\n",
    "    cur.execute(\"CREATE TABLE Doctor (DoctorID SERIAL PRIMARY KEY,    DoctorName VARCHAR(255) NOT NULL,Specialty VARCHAR(100));\")\n",
    "except psycopg2.Error as e:\n",
    "    print(e)"
   ]
  },
  {
   "cell_type": "code",
   "execution_count": 74,
   "id": "89a46f3a",
   "metadata": {},
   "outputs": [],
   "source": [
    "try:\n",
    "    cur.execute(\"CREATE TABLE Pharmacy (PrescriptionID SERIAL PRIMARY KEY,PatientId INT,PrescriptionDate DATE, Medication VARCHAR(100),Quantity INT,DoctorID INT,FOREIGN KEY (PatientId) REFERENCES Patient(PatientId),FOREIGN KEY (DoctorID) REFERENCES Doctor(DoctorID));\")\n",
    "except psycopg2.Error as e:\n",
    "    print(e)"
   ]
  },
  {
   "cell_type": "code",
   "execution_count": 88,
   "id": "9925475d",
   "metadata": {},
   "outputs": [],
   "source": [
    " sql_query = \"\"\"\n",
    "    INSERT INTO Patient (PatientName, JoinDate, LeaveDate, PatientUnit)\n",
    "    VALUES\n",
    "        ('John Smith', '2023-01-15', '2023-02-28', 'Cardiology'),\n",
    "        ('Alice Johnson', '2023-02-03', NULL, 'Pediatrics'),\n",
    "        ('Michael Brown', '2023-03-20', NULL, 'Orthopedics'),\n",
    "        ('Sarah Davis', '2023-04-10', '2023-05-25', 'Neurology'),\n",
    "        ('Robert Wilson', '2023-05-05', NULL, 'Oncology'),\n",
    "        ('Emily Lee', '2023-06-15', '2023-07-10', 'Gastroenterology'),\n",
    "        ('David Martinez', '2023-07-01', NULL, 'Cardiology'),\n",
    "        ('Sophia Perez', '2023-08-22', NULL, 'Pediatrics'),\n",
    "        ('James Taylor', '2023-09-12', '2023-10-30', 'Orthopedics'),\n",
    "        ('Olivia Anderson', '2023-10-05', NULL, 'Neurology')\n",
    "    \"\"\""
   ]
  },
  {
   "cell_type": "code",
   "execution_count": 91,
   "id": "31fa322c",
   "metadata": {},
   "outputs": [],
   "source": [
    "try:\n",
    "    cur.execute(sql_query)\n",
    "except psycopg2.Error as e:\n",
    "    print(e)"
   ]
  },
  {
   "cell_type": "code",
   "execution_count": 92,
   "id": "8ce14dac",
   "metadata": {},
   "outputs": [],
   "source": [
    "insertdoctor=\"\"\"INSERT INTO Doctor (DoctorName, Specialty)\n",
    "VALUES\n",
    "    ('Dr. Smith', 'Cardiologist'),\n",
    "    ('Dr. Johnson', 'Pediatrician'),\n",
    "    ('Dr. Brown', 'Orthopedic Surgeon'),\n",
    "    ('Dr. Davis', 'Neurologist');\"\"\""
   ]
  },
  {
   "cell_type": "code",
   "execution_count": 93,
   "id": "bf4fb8d5",
   "metadata": {},
   "outputs": [],
   "source": [
    "try:\n",
    "    cur.execute(insertdoctor)\n",
    "except psycopg2.Error as e:\n",
    "    print(e)"
   ]
  },
  {
   "cell_type": "code",
   "execution_count": 94,
   "id": "bed3eb8f",
   "metadata": {},
   "outputs": [],
   "source": [
    "insertpharma=\"\"\"INSERT INTO Pharmacy (PatientId, PrescriptionDate, Medication, Quantity,DoctorID)\n",
    "VALUES\n",
    "    (1, '2023-01-20', 'Aspirin', 30,1),\n",
    "    (2, '2023-02-10', 'Cough Syrup', 1,2),\n",
    "    (3, '2023-03-25', 'Painkiller', 60,3),\n",
    "    (4, '2023-04-15', 'Antidepressant', 90,1),\n",
    "    (5, '2023-05-10', 'Chemotherapy', 5,2),\n",
    "    (6, '2023-06-20', 'Antacid', 120,1),\n",
    "    (7, '2023-07-05', 'Statins', 30,2),\n",
    "    (8, '2023-08-25', 'Vitamin C', 60,2),\n",
    "    (9, '2023-09-15', 'Anti-inflammatory', 45,1),\n",
    "    (10, '2023-10-10', 'Antibiotic', 14,3);\"\"\""
   ]
  },
  {
   "cell_type": "code",
   "execution_count": 96,
   "id": "cc4e4a67",
   "metadata": {},
   "outputs": [],
   "source": [
    "try:\n",
    "    cur.execute(insertpharma)\n",
    "except psycopg2.Error as e:\n",
    "    print(e)"
   ]
  },
  {
   "cell_type": "code",
   "execution_count": null,
   "id": "035c31be",
   "metadata": {},
   "outputs": [],
   "source": []
  },
  {
   "cell_type": "code",
   "execution_count": null,
   "id": "727f1c6d",
   "metadata": {},
   "outputs": [],
   "source": []
  },
  {
   "cell_type": "code",
   "execution_count": null,
   "id": "0cdff798",
   "metadata": {},
   "outputs": [],
   "source": []
  },
  {
   "cell_type": "code",
   "execution_count": 97,
   "id": "2fd5bfb4",
   "metadata": {},
   "outputs": [],
   "source": [
    "cur.close()"
   ]
  },
  {
   "cell_type": "code",
   "execution_count": 98,
   "id": "411a99e4",
   "metadata": {},
   "outputs": [],
   "source": [
    "conn.close()"
   ]
  },
  {
   "cell_type": "code",
   "execution_count": null,
   "id": "d978bfb8",
   "metadata": {},
   "outputs": [],
   "source": []
  },
  {
   "cell_type": "code",
   "execution_count": null,
   "id": "4aa0a32c",
   "metadata": {},
   "outputs": [],
   "source": []
  }
 ],
 "metadata": {
  "kernelspec": {
   "display_name": "Python 3",
   "language": "python",
   "name": "python3"
  },
  "language_info": {
   "codemirror_mode": {
    "name": "ipython",
    "version": 3
   },
   "file_extension": ".py",
   "mimetype": "text/x-python",
   "name": "python",
   "nbconvert_exporter": "python",
   "pygments_lexer": "ipython3",
   "version": "3.8.8"
  }
 },
 "nbformat": 4,
 "nbformat_minor": 5
}
